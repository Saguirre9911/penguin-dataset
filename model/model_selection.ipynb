{
 "cells": [
  {
   "cell_type": "code",
   "execution_count": 2,
   "id": "72f9dcf6",
   "metadata": {},
   "outputs": [
    {
     "name": "stdout",
     "output_type": "stream",
     "text": [
      "  species     island  culmen_length_mm  culmen_depth_mm  flipper_length_mm  \\\n",
      "0  Adelie  Torgersen              39.1             18.7              181.0   \n",
      "1  Adelie  Torgersen              39.5             17.4              186.0   \n",
      "2  Adelie  Torgersen              40.3             18.0              195.0   \n",
      "3  Adelie  Torgersen               NaN              NaN                NaN   \n",
      "4  Adelie  Torgersen              36.7             19.3              193.0   \n",
      "\n",
      "   body_mass_g     sex  \n",
      "0       3750.0    MALE  \n",
      "1       3800.0  FEMALE  \n",
      "2       3250.0  FEMALE  \n",
      "3          NaN     NaN  \n",
      "4       3450.0  FEMALE  \n",
      "Index(['species', 'island', 'culmen_length_mm', 'culmen_depth_mm',\n",
      "       'flipper_length_mm', 'body_mass_g', 'sex'],\n",
      "      dtype='object')\n"
     ]
    }
   ],
   "source": [
    "# importing modules and packages\n",
    "import pandas as pd\n",
    "import numpy as np\n",
    "import matplotlib.pyplot as plt\n",
    "import seaborn as sns\n",
    "from sklearn.model_selection import train_test_split\n",
    "from sklearn.linear_model import LinearRegression\n",
    "from sklearn.metrics import mean_squared_error, mean_absolute_error\n",
    "from sklearn import preprocessing\n",
    "from sklearn.preprocessing import LabelEncoder\n",
    "# importing data\n",
    "df = pd.read_csv('../Data/penguins_size.csv')\n",
    "\n",
    "\n",
    "print(df.head())\n",
    "\n",
    "print(df.columns)\n"
   ]
  },
  {
   "cell_type": "code",
   "execution_count": 3,
   "id": "9a6f24f8",
   "metadata": {},
   "outputs": [],
   "source": [
    "from sklearn.impute import SimpleImputer\n",
    "#setting strategy to 'most frequent' to impute by the mean\n",
    "imputer = SimpleImputer(strategy='most_frequent')# strategy can also be mean or median \n",
    "df.iloc[:,:] = imputer.fit_transform(df)\n",
    "df.isnull().sum()\n",
    "lb = LabelEncoder()\n",
    "df[\"sex\"] = lb.fit_transform(df[\"sex\"])\n",
    "lb2 = LabelEncoder()\n",
    "lb2.fit([\"Adelie\", \"Gentoo\", \"Chinstrap\"])\n",
    "df[\"species\"]=lb2.transform(df[\"species\"])\n",
    "lb2.fit([\"Biscoe\",\"Torgersen\",\"Dream\"])\n",
    "df[\"island\"]=lb2.transform(df[\"island\"])"
   ]
  },
  {
   "cell_type": "code",
   "execution_count": 4,
   "id": "d1fa1bfa",
   "metadata": {},
   "outputs": [
    {
     "name": "stdout",
     "output_type": "stream",
     "text": [
      "     culmen_length_mm  culmen_depth_mm  flipper_length_mm  body_mass_g\n",
      "0                39.1             18.7              181.0       3750.0\n",
      "1                39.5             17.4              186.0       3800.0\n",
      "2                40.3             18.0              195.0       3250.0\n",
      "3                41.1             17.0              190.0       3800.0\n",
      "4                36.7             19.3              193.0       3450.0\n",
      "..                ...              ...                ...          ...\n",
      "339              41.1             17.0              190.0       3800.0\n",
      "340              46.8             14.3              215.0       4850.0\n",
      "341              50.4             15.7              222.0       5750.0\n",
      "342              45.2             14.8              212.0       5200.0\n",
      "343              49.9             16.1              213.0       5400.0\n",
      "\n",
      "[344 rows x 4 columns]\n",
      "0      0\n",
      "1      0\n",
      "2      0\n",
      "3      0\n",
      "4      0\n",
      "      ..\n",
      "339    2\n",
      "340    2\n",
      "341    2\n",
      "342    2\n",
      "343    2\n",
      "Name: species, Length: 344, dtype: int64\n"
     ]
    }
   ],
   "source": [
    "# creating feature variables\n",
    "X = df.drop(['species','island','sex'], axis=1)\n",
    "y = df['species']\n",
    "\n",
    "print(X)\n",
    "print(y)\n"
   ]
  },
  {
   "cell_type": "markdown",
   "id": "8fe743fd",
   "metadata": {},
   "source": [
    "# LINEAL\n",
    "Lineal regression"
   ]
  },
  {
   "cell_type": "code",
   "execution_count": 5,
   "id": "d157fa03",
   "metadata": {},
   "outputs": [],
   "source": [
    "# creating train and test sets\n",
    "X_train, X_test, y_train, y_test = train_test_split(\n",
    "\tX, y, test_size=0.3, random_state=101)"
   ]
  },
  {
   "cell_type": "code",
   "execution_count": 6,
   "id": "63499459",
   "metadata": {},
   "outputs": [
    {
     "name": "stdout",
     "output_type": "stream",
     "text": [
      "mean_squared_error :  0.0699909798863977\n",
      "mean_absolute_error :  0.20503273187531035\n"
     ]
    }
   ],
   "source": [
    "# creating a regression model\n",
    "model = LinearRegression()\n",
    "\n",
    "# fitting the model\n",
    "model.fit(X_train, y_train)\n",
    "\n",
    "# making predictions\n",
    "predictions = model.predict(X_test)\n",
    "\n",
    "\n",
    "# model evaluation\n",
    "print('mean_squared_error : ', mean_squared_error(y_test, predictions))\n",
    "print('mean_absolute_error : ', mean_absolute_error(y_test, predictions))"
   ]
  },
  {
   "cell_type": "markdown",
   "id": "cb0287d6",
   "metadata": {},
   "source": [
    "# ML model\n",
    "Support vector classifier "
   ]
  },
  {
   "cell_type": "code",
   "execution_count": 7,
   "id": "bc63db10",
   "metadata": {},
   "outputs": [
    {
     "name": "stdout",
     "output_type": "stream",
     "text": [
      "     culmen_length_mm  culmen_depth_mm  flipper_length_mm  body_mass_g\n",
      "143              40.7             17.0              190.0       3725.0\n",
      "277              45.5             15.0              220.0       5000.0\n",
      "134              38.1             17.6              187.0       3425.0\n",
      "64               36.4             17.1              184.0       2850.0\n",
      "333              51.5             16.3              230.0       5500.0\n",
      "..                ...              ...                ...          ...\n",
      "171              49.2             18.2              195.0       4400.0\n",
      "78               36.2             16.1              187.0       3550.0\n",
      "165              52.0             18.1              201.0       4050.0\n",
      "189              52.0             20.7              210.0       4800.0\n",
      "162              46.6             17.8              193.0       3800.0\n",
      "\n",
      "[104 rows x 4 columns]\n",
      "Accuracy: 0.9807692307692307\n",
      "mean_squared_error :  0.04807692307692308\n",
      "mean_absolute_error :  0.028846153846153848\n"
     ]
    }
   ],
   "source": [
    "#Import svm model\n",
    "from sklearn import svm\n",
    "\n",
    "#Create a svm Classifier\n",
    "clf = svm.SVC(kernel='linear') # Linear Kernel\n",
    "\n",
    "#Train the model using the training sets\n",
    "clf.fit(X_train, y_train)\n",
    "\n",
    "print(X_test)\n",
    "#Predict the response for test dataset\n",
    "y_pred = clf.predict(X_test)\n",
    "\n",
    "#Import scikit-learn metrics module for accuracy calculation\n",
    "from sklearn import metrics\n",
    "\n",
    "# Model Accuracy: how often is the classifier correct?\n",
    "print(\"Accuracy:\",metrics.accuracy_score(y_test, y_pred))\n",
    "\n",
    "# model evaluation\n",
    "print('mean_squared_error : ', mean_squared_error(y_test, y_pred))\n",
    "print('mean_absolute_error : ', mean_absolute_error(y_test, y_pred))"
   ]
  },
  {
   "cell_type": "code",
   "execution_count": null,
   "id": "144ed74e",
   "metadata": {},
   "outputs": [],
   "source": []
  }
 ],
 "metadata": {
  "kernelspec": {
   "display_name": "Python 3",
   "language": "python",
   "name": "python3"
  },
  "language_info": {
   "codemirror_mode": {
    "name": "ipython",
    "version": 3
   },
   "file_extension": ".py",
   "mimetype": "text/x-python",
   "name": "python",
   "nbconvert_exporter": "python",
   "pygments_lexer": "ipython3",
   "version": "3.8.8"
  }
 },
 "nbformat": 4,
 "nbformat_minor": 5
}
