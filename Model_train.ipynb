{
 "cells": [
  {
   "cell_type": "code",
   "execution_count": 2,
   "id": "0a9f67f3",
   "metadata": {},
   "outputs": [],
   "source": [
    "# importing modules and packages\n",
    "import pandas as pd\n",
    "import numpy as np\n",
    "import matplotlib.pyplot as plt\n",
    "import seaborn as sns\n",
    "from sklearn.model_selection import train_test_split\n",
    "from sklearn.linear_model import LinearRegression\n",
    "from sklearn.metrics import mean_squared_error, mean_absolute_error\n",
    "from sklearn import preprocessing\n",
    "from sklearn.preprocessing import LabelEncoder\n",
    "import pickle\n",
    "# importing data\n",
    "df = pd.read_csv('./Data/penguins_size.csv')"
   ]
  },
  {
   "cell_type": "code",
   "execution_count": 3,
   "id": "505356ca",
   "metadata": {},
   "outputs": [],
   "source": [
    "from sklearn.impute import SimpleImputer\n",
    "#setting strategy to 'most frequent' to impute by the mean\n",
    "imputer = SimpleImputer(strategy='most_frequent')# strategy can also be mean or median \n",
    "df.iloc[:,:] = imputer.fit_transform(df)\n",
    "df.isnull().sum()\n",
    "lb = LabelEncoder()\n",
    "df[\"sex\"] = lb.fit_transform(df[\"sex\"])\n",
    "lb2 = LabelEncoder()\n",
    "lb2.fit([\"Adelie\", \"Gentoo\", \"Chinstrap\"])\n",
    "df[\"species\"]=lb2.transform(df[\"species\"])\n",
    "lb2.fit([\"Biscoe\",\"Torgersen\",\"Dream\"])\n",
    "df[\"island\"]=lb2.transform(df[\"island\"])"
   ]
  },
  {
   "cell_type": "code",
   "execution_count": 4,
   "id": "3d717a35",
   "metadata": {},
   "outputs": [],
   "source": [
    "# creating feature variables\n",
    "X = df.drop(['species','island','sex'], axis=1)\n",
    "y = df['species']"
   ]
  },
  {
   "cell_type": "code",
   "execution_count": 6,
   "id": "e4feae35",
   "metadata": {},
   "outputs": [],
   "source": [
    "# creating train and test sets\n",
    "X_train, X_test, y_train, y_test = train_test_split(\n",
    "\tX, y, test_size=0.3, random_state=101)"
   ]
  },
  {
   "cell_type": "code",
   "execution_count": 7,
   "id": "f11883f2",
   "metadata": {},
   "outputs": [
    {
     "name": "stdout",
     "output_type": "stream",
     "text": [
      "Accuracy: 0.9807692307692307\n"
     ]
    }
   ],
   "source": [
    "#Import svm model\n",
    "from sklearn import svm\n",
    "\n",
    "#Create a svm Classifier\n",
    "clf = svm.SVC(kernel='linear') # Linear Kernel\n",
    "\n",
    "#Train the model using the training sets\n",
    "clf.fit(X_train, y_train)\n",
    "\n",
    "#Predict the response for test dataset\n",
    "y_pred = clf.predict(X_test)\n",
    "\n",
    "#Import scikit-learn metrics module for accuracy calculation\n",
    "from sklearn import metrics\n",
    "\n",
    "# Model Accuracy: how often is the classifier correct?\n",
    "print(\"Accuracy:\",metrics.accuracy_score(y_test, y_pred))\n"
   ]
  },
  {
   "cell_type": "code",
   "execution_count": 8,
   "id": "442c54ef",
   "metadata": {},
   "outputs": [],
   "source": [
    "pickle.dump(clf, open('svm_clas_penguins.pkl', 'wb'))"
   ]
  }
 ],
 "metadata": {
  "kernelspec": {
   "display_name": "Python 3",
   "language": "python",
   "name": "python3"
  },
  "language_info": {
   "codemirror_mode": {
    "name": "ipython",
    "version": 3
   },
   "file_extension": ".py",
   "mimetype": "text/x-python",
   "name": "python",
   "nbconvert_exporter": "python",
   "pygments_lexer": "ipython3",
   "version": "3.8.8"
  }
 },
 "nbformat": 4,
 "nbformat_minor": 5
}
